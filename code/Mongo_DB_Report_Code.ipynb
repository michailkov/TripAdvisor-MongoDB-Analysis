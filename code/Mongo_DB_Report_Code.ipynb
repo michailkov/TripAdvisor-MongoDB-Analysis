{
 "cells": [
  {
   "cell_type": "markdown",
   "metadata": {},
   "source": [
    "THESE commands are run in Powershell"
   ]
  },
  {
   "cell_type": "markdown",
   "metadata": {},
   "source": [
    "Copy a File from Host to Docker Container"
   ]
  },
  {
   "cell_type": "code",
   "execution_count": null,
   "metadata": {},
   "outputs": [],
   "source": [
    "docker cp\n",
    "\"E:\\ModifiedDownloads\\tripadvisor_european_restaurants\\tripadvisor_european_rest\n",
    "aurants.json\" MONGO_CONTAINER:/tmp/tripadvisor_european_restaurants.json"
   ]
  },
  {
   "cell_type": "markdown",
   "metadata": {},
   "source": [
    "Run an Interactive Bash Shell Inside a MongoDB Docker Container"
   ]
  },
  {
   "cell_type": "code",
   "execution_count": null,
   "metadata": {},
   "outputs": [],
   "source": [
    "docker exec -it MONGO_CONTAINER bash"
   ]
  },
  {
   "cell_type": "markdown",
   "metadata": {},
   "source": [
    "Import JSON Data into MongoDB"
   ]
  },
  {
   "cell_type": "code",
   "execution_count": null,
   "metadata": {},
   "outputs": [],
   "source": [
    "mongoimport --db TripAdvisor --collection restaurants --file\n",
    "/tmp/tripadvisor_european_restaurants.json –jsonArray"
   ]
  },
  {
   "cell_type": "markdown",
   "metadata": {},
   "source": [
    "Connect to MongoDB Shell (`mongosh`)"
   ]
  },
  {
   "cell_type": "code",
   "execution_count": null,
   "metadata": {},
   "outputs": [],
   "source": [
    "mongosh"
   ]
  },
  {
   "cell_type": "markdown",
   "metadata": {},
   "source": [
    "Retrieve a Sample Document from the `restaurants` Collection"
   ]
  },
  {
   "cell_type": "code",
   "execution_count": null,
   "metadata": {},
   "outputs": [],
   "source": [
    "db.restaurants.find().limit(1).pretty()"
   ]
  },
  {
   "cell_type": "markdown",
   "metadata": {},
   "source": [
    "2.1 Find Top 5 Highly Rated Vegan-Friendly Breakfast Restaurants in Athens"
   ]
  },
  {
   "cell_type": "code",
   "execution_count": null,
   "metadata": {},
   "outputs": [],
   "source": [
    "restaurants.find({\n",
    "city: \"Athens\",\n",
    "vegan_options: \"Y\",\n",
    "meals: \"Breakfast\",\n",
    "total_reviews_count: { $gt: 100 }\n",
    "}, {\n",
    "restaurant_name: 1,\n",
    "address: 1,\n",
    "avg_rating: 1,\n",
    "total_reviews_count: 1,\n",
    "_id: 0\n",
    "}).sort({\n",
    "avg_rating: -1,\n",
    "total_reviews_count: -1\n",
    "}).limit(5)"
   ]
  },
  {
   "cell_type": "markdown",
   "metadata": {},
   "source": [
    "2.2 Find Top 10 Most Popular Cuisines in Vegan-Friendly Restaurants in Athens"
   ]
  },
  {
   "cell_type": "code",
   "execution_count": null,
   "metadata": {},
   "outputs": [],
   "source": [
    "db.restaurants.aggregate([\n",
    "{$match: {city: \"Athens\",vegan_options: \"Y\",}},\n",
    "{$unwind: \"$cuisines\"},\n",
    "{$group: {_id: \"$cuisines\",10total_restaurants: { $sum: 1 },avg_reviews: { $avg: \"$total_reviews_count\" }}},\n",
    "{$sort: { total_restaurants: -1 }},\n",
    "{$limit: 10}\n",
    "])"
   ]
  },
  {
   "cell_type": "markdown",
   "metadata": {},
   "source": [
    "2.3 Find the Top 5 Cities Outside Greece with the Most Greek Restaurants"
   ]
  },
  {
   "cell_type": "code",
   "execution_count": null,
   "metadata": {},
   "outputs": [],
   "source": [
    "db.restaurants.aggregate([\n",
    "{$match: {country: { $ne: \"Greece\" },cuisines: \"Greek\",}},\n",
    "{$group: {_id: \"$city\",total_restaurants: { $sum: 1 }}},\n",
    "{$sort: { total_restaurants: -1 }},\n",
    "{$limit: 5}\n",
    "])"
   ]
  },
  {
   "cell_type": "markdown",
   "metadata": {},
   "source": [
    "2.4 Find the Top 5 Cities Outside Greece with the Most Greek Restaurants without Nulls"
   ]
  },
  {
   "cell_type": "code",
   "execution_count": null,
   "metadata": {},
   "outputs": [],
   "source": [
    "db.restaurants.aggregate([\n",
    "{$match: {country: { $ne: \"Greece\" },cuisines: \"Greek\",city: { $ne: null }}},\n",
    "{$group: {_id: \"$city\",total_restaurants: { $sum: 1 }}},\n",
    "{$sort: { total_restaurants: -1 }},\n",
    "{$limit: 5}\n",
    "])"
   ]
  },
  {
   "cell_type": "markdown",
   "metadata": {},
   "source": [
    "2.5 Find the City with the Most Highly Rated Restaurants"
   ]
  },
  {
   "cell_type": "code",
   "execution_count": null,
   "metadata": {},
   "outputs": [],
   "source": [
    "db.restaurants.aggregate([\n",
    "{$match: {avg_rating: { $gt: 4.5 },total_reviews_count: { $gt: 1000 },city: { $ne: null }}},\n",
    "{$group: {_id: \"$city\",total_restaurants: { $sum: 1 }}},\n",
    "{$sort: { total_restaurants: -1 }},\n",
    "{$limit: 1}\n",
    "])"
   ]
  },
  {
   "cell_type": "markdown",
   "metadata": {},
   "source": [
    "3.1 Optimizing Query Performance with Indexing in MongoDB\n",
    "\n",
    "First we run the query for each question without any indexes and we get the statistics shown in the Report\n",
    "\n",
    "After that we drop all previous Indexes we create the indexes for each query and rerun it\n",
    "\n",
    "We compare statistics before and after indexing\n",
    "\n",
    "This is the procedure followed for answering 3.1 of the project \n",
    "\n",
    "After that i just provide the indexes for each subquestion "
   ]
  },
  {
   "cell_type": "code",
   "execution_count": null,
   "metadata": {},
   "outputs": [],
   "source": [
    "restaurants.find({\n",
    "city: \"Athens\",\n",
    "vegan_options: \"Y\",\n",
    "meals: \"Breakfast\",\n",
    "total_reviews_count: { $gt: 100 }\n",
    "}, {\n",
    "restaurant_name: 1,\n",
    "address: 1,\n",
    "avg_rating: 1,\n",
    "total_reviews_count: 1,\n",
    "_id: 0\n",
    "}).sort({\n",
    "avg_rating: -1,\n",
    "total_reviews_count: -1\n",
    "}).limit(5).explain(\"executionStats\")\n"
   ]
  },
  {
   "cell_type": "code",
   "execution_count": null,
   "metadata": {},
   "outputs": [],
   "source": [
    "db.restaurants.createIndex({ city: 1, vegan_options: 1, meals: 1, total_reviews_count: 1 })"
   ]
  },
  {
   "cell_type": "code",
   "execution_count": null,
   "metadata": {},
   "outputs": [],
   "source": [
    "restaurants.find({\n",
    "city: \"Athens\",\n",
    "vegan_options: \"Y\",\n",
    "meals: \"Breakfast\",\n",
    "total_reviews_count: { $gt: 100 }\n",
    "}, {\n",
    "restaurant_name: 1,\n",
    "address: 1,\n",
    "avg_rating: 1,\n",
    "total_reviews_count: 1,\n",
    "_id: 0\n",
    "}).sort({\n",
    "avg_rating: -1,\n",
    "total_reviews_count: -1\n",
    "}).limit(5).explain(\"executionStats\")"
   ]
  },
  {
   "cell_type": "code",
   "execution_count": null,
   "metadata": {},
   "outputs": [],
   "source": [
    "db.restaurants.dropIndexes()"
   ]
  },
  {
   "cell_type": "markdown",
   "metadata": {},
   "source": [
    "3.2"
   ]
  },
  {
   "cell_type": "code",
   "execution_count": null,
   "metadata": {},
   "outputs": [],
   "source": [
    "db.restaurants.createIndex({ city: 1, vegan_options: 1, cuisines: 1 })"
   ]
  },
  {
   "cell_type": "markdown",
   "metadata": {},
   "source": [
    "3.3"
   ]
  },
  {
   "cell_type": "code",
   "execution_count": null,
   "metadata": {},
   "outputs": [],
   "source": [
    "db.restaurants.createIndex({ country: 1, cuisines: 1, city: 1 })"
   ]
  },
  {
   "cell_type": "markdown",
   "metadata": {},
   "source": [
    "3.4"
   ]
  },
  {
   "cell_type": "code",
   "execution_count": null,
   "metadata": {},
   "outputs": [],
   "source": [
    "db.restaurants.createIndex({ avg_rating: 1, total_reviews_count: 1, city: 1 })"
   ]
  },
  {
   "cell_type": "markdown",
   "metadata": {},
   "source": [
    "3.5"
   ]
  },
  {
   "cell_type": "code",
   "execution_count": null,
   "metadata": {},
   "outputs": [],
   "source": [
    "db.restaurants.createIndex( { avg_rating: 1, total_reviews_count: 1, city: 1 } )"
   ]
  }
 ],
 "metadata": {
  "language_info": {
   "name": "python"
  }
 },
 "nbformat": 4,
 "nbformat_minor": 2
}
