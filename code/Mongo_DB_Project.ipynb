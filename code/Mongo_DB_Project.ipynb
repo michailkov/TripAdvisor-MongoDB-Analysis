{
 "cells": [
  {
   "cell_type": "markdown",
   "metadata": {},
   "source": [
    "Connect to MongoDB"
   ]
  },
  {
   "cell_type": "code",
   "execution_count": 10,
   "metadata": {},
   "outputs": [],
   "source": [
    "from pymongo import MongoClient\n",
    "import pprint\n",
    "\n",
    "# Connect to MongoDB\n",
    "client = MongoClient(\"mongodb://localhost:27017\")  # Adjust if needed\n",
    "db = client[\"TripAdvisor\"]  # Select the database\n",
    "collection = db[\"restaurants\"]  # Select the collection\n",
    "\n",
    "# Pretty Print\n",
    "pp = pprint.PrettyPrinter(indent=2)\n",
    "\n"
   ]
  },
  {
   "cell_type": "markdown",
   "metadata": {},
   "source": [
    "Copy File to Container "
   ]
  },
  {
   "cell_type": "code",
   "execution_count": 11,
   "metadata": {},
   "outputs": [
    {
     "data": {
      "text/plain": [
       "CompletedProcess(args=['docker', 'cp', 'E:\\\\ModifiedDownloads\\\\tripadvisor_european_restaurants.json', 'MONGO_CONTAINER:/tmp/tripadvisor_european_restaurants.json'], returncode=0)"
      ]
     },
     "execution_count": 11,
     "metadata": {},
     "output_type": "execute_result"
    }
   ],
   "source": [
    "import subprocess\n",
    "# Define variables\n",
    "local_path = r\"E:\\ModifiedDownloads\\tripadvisor_european_restaurants.json\"\n",
    "container_path = \"/tmp/tripadvisor_european_restaurants.json\"\n",
    "container_name = \"MONGO_CONTAINER\"  # Replace with actual container name\n",
    "\n",
    "# Copy file from host to Docker container\n",
    "subprocess.run([\"docker\", \"cp\", local_path, f\"{container_name}:{container_path}\"], check=True)\n"
   ]
  },
  {
   "cell_type": "markdown",
   "metadata": {},
   "source": [
    "Import JSON Data into MongoDB"
   ]
  },
  {
   "cell_type": "code",
   "execution_count": 12,
   "metadata": {},
   "outputs": [
    {
     "data": {
      "text/plain": [
       "CompletedProcess(args=['docker', 'exec', 'MONGO_CONTAINER', 'mongoimport', '--db', 'TripAdvisor', '--collection', 'restaurants', '--file', '/tmp/tripadvisor_european_restaurants.json', '--jsonArray'], returncode=0)"
      ]
     },
     "execution_count": 12,
     "metadata": {},
     "output_type": "execute_result"
    }
   ],
   "source": [
    "mongoimport_cmd = [\n",
    "    \"docker\", \"exec\", container_name, \n",
    "    \"mongoimport\", \"--db\", \"TripAdvisor\", \"--collection\", \"restaurants\",\n",
    "    \"--file\", container_path, \"--jsonArray\"\n",
    "]\n",
    "\n",
    "subprocess.run(mongoimport_cmd, check=True)"
   ]
  },
  {
   "cell_type": "markdown",
   "metadata": {},
   "source": [
    "Show Databases and Collections"
   ]
  },
  {
   "cell_type": "code",
   "execution_count": 13,
   "metadata": {},
   "outputs": [
    {
     "name": "stdout",
     "output_type": "stream",
     "text": [
      "Databases: ['TripAdvisor', 'admin', 'config', 'local']\n",
      "Collections in TripAdvisor: ['restaurants']\n"
     ]
    }
   ],
   "source": [
    "print(\"Databases:\", client.list_database_names())\n",
    "print(\"Collections in TripAdvisor:\", db.list_collection_names())\n"
   ]
  },
  {
   "cell_type": "markdown",
   "metadata": {},
   "source": [
    "Count Documents in Collection"
   ]
  },
  {
   "cell_type": "code",
   "execution_count": 14,
   "metadata": {},
   "outputs": [
    {
     "name": "stdout",
     "output_type": "stream",
     "text": [
      "Total Documents: 3250191\n"
     ]
    }
   ],
   "source": [
    "print(\"Total Documents:\", collection.count_documents({}))\n"
   ]
  },
  {
   "cell_type": "markdown",
   "metadata": {},
   "source": [
    "Show a Sample Document"
   ]
  },
  {
   "cell_type": "code",
   "execution_count": 15,
   "metadata": {},
   "outputs": [
    {
     "name": "stdout",
     "output_type": "stream",
     "text": [
      "{ '_id': ObjectId('677d4d1104e1ddf4b783318c'),\n",
      "  'address': '2 rue des Dames, 36800 Rivarennes France',\n",
      "  'atmosphere': None,\n",
      "  'average': 0.0,\n",
      "  'avg_rating': 5.0,\n",
      "  'awards': [],\n",
      "  'city': 'Rivarennes',\n",
      "  'claimed': 'Claimed',\n",
      "  'country': 'France',\n",
      "  'cuisines': ['French', 'European'],\n",
      "  'default_language': 'English',\n",
      "  'excellent': 3.0,\n",
      "  'features': [ 'Reservations',\n",
      "                'Seating',\n",
      "                'Table Service',\n",
      "                'Wheelchair Accessible'],\n",
      "  'food': None,\n",
      "  'gluten_free': 'N',\n",
      "  'keywords': [],\n",
      "  'latitude': 46.635895,\n",
      "  'longitude': 1.386133,\n",
      "  'meals': ['Dinner', 'Lunch', 'Drinks'],\n",
      "  'open_days_per_week': None,\n",
      "  'open_hours_per_week': None,\n",
      "  'original_location': [ 'Europe',\n",
      "                         'France',\n",
      "                         'Centre-Val de Loire',\n",
      "                         'Berry',\n",
      "                         'Indre',\n",
      "                         'Rivarennes'],\n",
      "  'original_open_hours': None,\n",
      "  'poor': 0.0,\n",
      "  'popularity_detailed': '#1 of 1 Restaurant in Rivarennes',\n",
      "  'popularity_generic': '#1 of 1 places to eat in Rivarennes',\n",
      "  'price_level': '€',\n",
      "  'price_range': None,\n",
      "  'province': 'Berry',\n",
      "  'region': 'Centre-Val de Loire',\n",
      "  'restaurant_link': 'g10002858-d4586832',\n",
      "  'restaurant_name': 'Au Bout du Pont',\n",
      "  'reviews_count_in_default_language': 4.0,\n",
      "  'service': None,\n",
      "  'special_diets': [],\n",
      "  'terrible': 0.0,\n",
      "  'top_tags': ['Cheap Eats', 'French', 'European'],\n",
      "  'total_reviews_count': 13.0,\n",
      "  'value': None,\n",
      "  'vegan_options': 'N',\n",
      "  'vegetarian_friendly': 'N',\n",
      "  'very_good': 1.0,\n",
      "  'working_shifts_per_week': None}\n"
     ]
    }
   ],
   "source": [
    "sample_doc = collection.find_one()\n",
    "pp.pprint(sample_doc)"
   ]
  },
  {
   "cell_type": "markdown",
   "metadata": {},
   "source": [
    "Get Top 5 Vegan Breakfast Restaurants in Athens"
   ]
  },
  {
   "cell_type": "code",
   "execution_count": 16,
   "metadata": {},
   "outputs": [
    {
     "name": "stdout",
     "output_type": "stream",
     "text": [
      "[ { 'address': 'Perikleous 56 Ground floor, Athens 10560 Greece',\n",
      "    'avg_rating': 5.0,\n",
      "    'restaurant_name': 'Vegan Beat',\n",
      "    'total_reviews_count': 754.0},\n",
      "  { 'address': 'Perikleous 56 Ground floor, Athens 10560 Greece',\n",
      "    'avg_rating': 5.0,\n",
      "    'restaurant_name': 'Vegan Beat',\n",
      "    'total_reviews_count': 754.0},\n",
      "  { 'address': 'Perikleous 56 Ground floor, Athens 10560 Greece',\n",
      "    'avg_rating': 5.0,\n",
      "    'restaurant_name': 'Vegan Beat',\n",
      "    'total_reviews_count': 754.0},\n",
      "  { 'address': 'Fillelinon 22, Athens 10557 Greece',\n",
      "    'avg_rating': 5.0,\n",
      "    'restaurant_name': 'Victory Cafe',\n",
      "    'total_reviews_count': 562.0},\n",
      "  { 'address': 'Fillelinon 22, Athens 10557 Greece',\n",
      "    'avg_rating': 5.0,\n",
      "    'restaurant_name': 'Victory Cafe',\n",
      "    'total_reviews_count': 562.0}]\n"
     ]
    }
   ],
   "source": [
    "Q2_1 = [\n",
    "    {\"$match\": {\"city\": \"Athens\", \"vegan_options\": \"Y\", \"meals\": \"Breakfast\", \"total_reviews_count\": {\"$gt\": 100}}},\n",
    "    {\"$project\": {\"restaurant_name\": 1, \"address\": 1, \"avg_rating\": 1, \"total_reviews_count\": 1, \"_id\": 0}},\n",
    "    {\"$sort\": {\"avg_rating\": -1, \"total_reviews_count\": -1}},\n",
    "    {\"$limit\": 5}\n",
    "]\n",
    "\n",
    "result = list(collection.aggregate(Q2_1))\n",
    "pp.pprint(result)\n"
   ]
  },
  {
   "cell_type": "markdown",
   "metadata": {},
   "source": [
    "Top 10 Cuisine Types for Vegan Restaurants in Athens"
   ]
  },
  {
   "cell_type": "code",
   "execution_count": 17,
   "metadata": {},
   "outputs": [
    {
     "name": "stdout",
     "output_type": "stream",
     "text": [
      "[ {'_id': 'Greek', 'avg_reviews': 433.1246537396122, 'total_restaurants': 1083},\n",
      "  { '_id': 'Mediterranean',\n",
      "    'avg_reviews': 407.1919770773639,\n",
      "    'total_restaurants': 1047},\n",
      "  { '_id': 'European',\n",
      "    'avg_reviews': 416.4139784946237,\n",
      "    'total_restaurants': 558},\n",
      "  {'_id': 'Cafe', 'avg_reviews': 204.51041666666666, 'total_restaurants': 288},\n",
      "  { '_id': 'Healthy',\n",
      "    'avg_reviews': 674.4406779661017,\n",
      "    'total_restaurants': 177},\n",
      "  {'_id': 'Asian', 'avg_reviews': 278.8837209302326, 'total_restaurants': 129},\n",
      "  { '_id': 'Italian',\n",
      "    'avg_reviews': 197.73170731707316,\n",
      "    'total_restaurants': 123},\n",
      "  { '_id': 'Fast food',\n",
      "    'avg_reviews': 173.8108108108108,\n",
      "    'total_restaurants': 111},\n",
      "  {'_id': 'Bar', 'avg_reviews': 288.05555555555554, 'total_restaurants': 108},\n",
      "  { '_id': 'Seafood',\n",
      "    'avg_reviews': 431.9117647058824,\n",
      "    'total_restaurants': 102}]\n"
     ]
    }
   ],
   "source": [
    "Q2_2 = [\n",
    "    {\"$match\": {\"city\": \"Athens\", \"vegan_options\": \"Y\"}},\n",
    "    {\"$unwind\": \"$cuisines\"},\n",
    "    {\"$group\": {\"_id\": \"$cuisines\", \"total_restaurants\": {\"$sum\": 1}, \"avg_reviews\": {\"$avg\": \"$total_reviews_count\"}}},\n",
    "    {\"$sort\": {\"total_restaurants\": -1}},\n",
    "    {\"$limit\": 10}\n",
    "]\n",
    "\n",
    "result = list(collection.aggregate(Q2_2))\n",
    "pp.pprint(result)\n"
   ]
  },
  {
   "cell_type": "markdown",
   "metadata": {},
   "source": [
    "Top 5 Cities (Outside Greece) with the Most Greek Restaurants"
   ]
  },
  {
   "cell_type": "code",
   "execution_count": 19,
   "metadata": {},
   "outputs": [
    {
     "name": "stdout",
     "output_type": "stream",
     "text": [
      "[ {'_id': 'Munich', 'total_restaurants': 357},\n",
      "  {'_id': 'Paris', 'total_restaurants': 315},\n",
      "  {'_id': 'Nuremberg', 'total_restaurants': 213},\n",
      "  {'_id': 'Dusseldorf', 'total_restaurants': 195},\n",
      "  {'_id': 'Vienna', 'total_restaurants': 192}]\n"
     ]
    }
   ],
   "source": [
    "Q2_3 = [\n",
    "    {\"$match\": {\"country\": {\"$ne\": \"Greece\"}, \"cuisines\": \"Greek\", \"city\": {\"$ne\": None}}},\n",
    "    {\"$group\": {\"_id\": \"$city\", \"total_restaurants\": {\"$sum\": 1}}},\n",
    "    {\"$sort\": {\"total_restaurants\": -1}},\n",
    "    {\"$limit\": 5}\n",
    "]\n",
    "\n",
    "result = list(collection.aggregate(Q2_3))\n",
    "pp.pprint(result)\n"
   ]
  },
  {
   "cell_type": "markdown",
   "metadata": {},
   "source": [
    "Best City with Most Highly Rated Restaurants"
   ]
  },
  {
   "cell_type": "code",
   "execution_count": 4,
   "metadata": {},
   "outputs": [
    {
     "name": "stdout",
     "output_type": "stream",
     "text": [
      "[{'_id': 'Rome', 'total_restaurants': 10}]\n"
     ]
    }
   ],
   "source": [
    "Q2_4 = [\n",
    "    {\"$match\": {\"avg_rating\": {\"$gt\": 4.5}, \"total_reviews_count\": {\"$gt\": 1000}, \"city\": {\"$ne\": None}}},\n",
    "    {\"$group\": {\"_id\": \"$city\", \"total_restaurants\": {\"$sum\": 1}}},\n",
    "    {\"$sort\": {\"total_restaurants\": -1}},\n",
    "    {\"$limit\": 1}\n",
    "]\n",
    "\n",
    "result = list(collection.aggregate(Q2_4))\n",
    "pp.pprint(result)\n"
   ]
  },
  {
   "cell_type": "markdown",
   "metadata": {},
   "source": [
    "Top Greek Regions with Highly Rated Restaurants"
   ]
  },
  {
   "cell_type": "code",
   "execution_count": 5,
   "metadata": {},
   "outputs": [
    {
     "name": "stdout",
     "output_type": "stream",
     "text": [
      "[ {'_id': 'Attica', 'total_restaurants': 1328},\n",
      "  {'_id': 'South Aegean', 'total_restaurants': 1083},\n",
      "  {'_id': 'Crete', 'total_restaurants': 1067},\n",
      "  {'_id': 'Central Macedonia', 'total_restaurants': 802},\n",
      "  {'_id': 'Ionian Islands', 'total_restaurants': 658},\n",
      "  {'_id': 'Peloponnese', 'total_restaurants': 476},\n",
      "  {'_id': 'Northeast Aegean Islands', 'total_restaurants': 337},\n",
      "  {'_id': 'Thessaly', 'total_restaurants': 265},\n",
      "  {'_id': 'Central Greece', 'total_restaurants': 240},\n",
      "  {'_id': 'Epirus', 'total_restaurants': 231},\n",
      "  {'_id': 'West Greece', 'total_restaurants': 224},\n",
      "  {'_id': 'East Macedonia and Thrace', 'total_restaurants': 173},\n",
      "  {'_id': 'West Macedonia', 'total_restaurants': 93},\n",
      "  {'_id': 'Sporades', 'total_restaurants': 53}]\n"
     ]
    }
   ],
   "source": [
    "Q2_5 = [\n",
    "    {\"$match\": {\"country\": \"Greece\", \"avg_rating\": {\"$gt\": 4.5}, \"region\": {\"$ne\": None}}},\n",
    "    {\"$group\": {\"_id\": \"$region\", \"total_restaurants\": {\"$sum\": 1}}},\n",
    "    {\"$sort\": {\"total_restaurants\": -1}}\n",
    "]\n",
    "\n",
    "result = list(collection.aggregate(Q2_5))\n",
    "pp.pprint(result)\n"
   ]
  },
  {
   "cell_type": "code",
   "execution_count": 13,
   "metadata": {},
   "outputs": [
    {
     "name": "stdout",
     "output_type": "stream",
     "text": [
      "\n",
      "Running Pipeline 1\n",
      "Previous indexes deleted\n",
      "New indexes created\n",
      "\n",
      "Running Pipeline 2\n",
      "Previous indexes deleted\n",
      "New indexes created\n",
      "\n",
      "Running Pipeline 3\n",
      "Previous indexes deleted\n",
      "New indexes created\n",
      "\n",
      "Running Pipeline 4\n",
      "Previous indexes deleted\n",
      "New indexes created\n",
      "\n",
      "Running Pipeline 5\n",
      "Previous indexes deleted\n",
      "New indexes created\n",
      "\n",
      "Query Performance Summary:\n",
      "Pipeline  Before Indexing (s)      After Indexing (s)       Speedup   \n",
      "----------------------------------------------------------------------\n",
      "1         0.7831                   0.0114                   68.88x Faster\n",
      "2         0.4628                   0.0367                   12.62x Faster\n",
      "3         0.4734                   0.0123                   38.44x Faster\n",
      "4         0.8302                   0.0654                   12.69x Faster\n",
      "5         0.8095                   0.0746                   10.86x Faster\n"
     ]
    }
   ],
   "source": [
    "import time\n",
    "\n",
    "# Function to measure query execution time\n",
    "def measure_query_time(pipeline):\n",
    "    start_time = time.time()\n",
    "    list(collection.aggregate(pipeline))\n",
    "    end_time = time.time()\n",
    "    return end_time - start_time\n",
    "\n",
    "# Define sample pipelines for testing\n",
    "pipelines = [\n",
    "    # Pipeline 1: Count restaurants serving vegan meals in Athens\n",
    "    [\n",
    "        {\"$match\": {\"city\": \"Athens\", \"vegan_options\": \"Y\"}},\n",
    "        {\"$group\": {\"_id\": \"$meals\", \"total_restaurants\": {\"$sum\": 1}}},\n",
    "        {\"$sort\": {\"total_restaurants\": -1}}\n",
    "    ],\n",
    "    # Pipeline 2: Get top 5 vegan breakfast restaurants in Athens\n",
    "    [\n",
    "        {\"$match\": {\"city\": \"Athens\", \"vegan_options\": \"Y\", \"meals\": \"Breakfast\", \"total_reviews_count\": {\"$gt\": 100}}},  \n",
    "        {\"$project\": {\"restaurant_name\": 1, \"address\": 1, \"avg_rating\": 1, \"total_reviews_count\": 1, \"_id\": 0}},  \n",
    "        {\"$sort\": {\"avg_rating\": -1, \"total_reviews_count\": -1}},  \n",
    "        {\"$limit\": 5}  \n",
    "    ],\n",
    "    # Pipeline 3: Top 10 cuisine types for vegan restaurants in Athens\n",
    "    [\n",
    "        {\"$match\": {\"city\": \"Athens\", \"vegan_options\": \"Y\"}},  \n",
    "        {\"$unwind\": \"$cuisines\"},  \n",
    "        {\"$group\": {\"_id\": \"$cuisines\", \"total_restaurants\": {\"$sum\": 1}, \"avg_reviews\": {\"$avg\": \"$total_reviews_count\"}}},  \n",
    "        {\"$sort\": {\"total_restaurants\": -1}},  \n",
    "        {\"$limit\": 10}  \n",
    "    ],\n",
    "    # Pipeline 4: Top 5 cities (excluding Greece) with the most Greek restaurants\n",
    "    [\n",
    "        {\"$match\": {\"country\": {\"$ne\": \"Greece\"}, \"cuisines\": \"Greek\", \"city\": {\"$ne\": None}}},  \n",
    "        {\"$group\": {\"_id\": \"$city\", \"total_restaurants\": {\"$sum\": 1}}},  \n",
    "        {\"$sort\": {\"total_restaurants\": -1}},  \n",
    "        {\"$limit\": 5}  \n",
    "    ],\n",
    "    # Pipeline 5: Best city with the most highly rated restaurants\n",
    "    [\n",
    "        {\"$match\": {\"avg_rating\": {\"$gt\": 4.5}, \"total_reviews_count\": {\"$gt\": 1000}, \"city\": {\"$ne\": None}}},  \n",
    "        {\"$group\": {\"_id\": \"$city\", \"total_restaurants\": {\"$sum\": 1}}},  \n",
    "        {\"$sort\": {\"total_restaurants\": -1}},  \n",
    "        {\"$limit\": 1}  \n",
    "    ]\n",
    "]\n",
    "\n",
    "# Define corresponding indexes for each pipeline\n",
    "index_sets = [\n",
    "    [(\"city\", 1), (\"vegan_options\", 1)],  # Pipeline 1\n",
    "    [(\"city\", 1), (\"vegan_options\", 1), (\"meals\", 1), (\"total_reviews_count\", -1)],  # Pipeline 2\n",
    "    [(\"city\", 1), (\"vegan_options\", 1), (\"cuisines\", 1)],  # Pipeline 3\n",
    "    [(\"country\", 1), (\"cuisines\", 1), (\"city\", 1)],  # Pipeline 4\n",
    "    [(\"avg_rating\", -1), (\"total_reviews_count\", -1), (\"city\", 1)]  # Pipeline 5\n",
    "]\n",
    "\n",
    "# Execute and measure performance for each pipeline\n",
    "performance_results = []\n",
    "\n",
    "for i, (pipeline, indexes) in enumerate(zip(pipelines, index_sets)):\n",
    "    print(f\"\\nRunning Pipeline {i+1}\")\n",
    "\n",
    "    # Drop previous indexes\n",
    "    collection.drop_indexes()\n",
    "    print(\"Previous indexes deleted\")\n",
    "\n",
    "    # Measure query time BEFORE indexing\n",
    "    time_before = measure_query_time(pipeline)\n",
    "    \n",
    "    # Create new indexes\n",
    "    for index in indexes:\n",
    "        collection.create_index([index])\n",
    "    \n",
    "    print(\"New indexes created\")\n",
    "\n",
    "    # Measure query time AFTER indexing\n",
    "    time_after = measure_query_time(pipeline)\n",
    "\n",
    "    # Store results for later summary\n",
    "    performance_results.append((i+1, time_before, time_after))\n",
    "\n",
    "# Print final performance summary\n",
    "print(\"\\nQuery Performance Summary:\")\n",
    "print(f\"{'Pipeline':<10}{'Before Indexing (s)':<25}{'After Indexing (s)':<25}{'Speedup':<10}\")\n",
    "print(\"-\" * 70)\n",
    "for pipeline_id, before, after in performance_results:\n",
    "    speedup = before / after if after > 0 else float(\"inf\")\n",
    "    print(f\"{pipeline_id:<10}{before:<25.4f}{after:<25.4f}{speedup:.2f}x Faster\")\n",
    "\n"
   ]
  },
  {
   "cell_type": "code",
   "execution_count": null,
   "metadata": {},
   "outputs": [],
   "source": []
  }
 ],
 "metadata": {
  "kernelspec": {
   "display_name": "Python 3",
   "language": "python",
   "name": "python3"
  },
  "language_info": {
   "codemirror_mode": {
    "name": "ipython",
    "version": 3
   },
   "file_extension": ".py",
   "mimetype": "text/x-python",
   "name": "python",
   "nbconvert_exporter": "python",
   "pygments_lexer": "ipython3",
   "version": "3.12.6"
  }
 },
 "nbformat": 4,
 "nbformat_minor": 2
}
